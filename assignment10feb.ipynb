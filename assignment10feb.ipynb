{
 "cells": [
  {
   "cell_type": "markdown",
   "id": "c6cde0cb-8dbb-4a88-b83c-c0a480b52e9a",
   "metadata": {},
   "source": [
    "Q1. Which function is used to open a file? What are the different modes of opening a file? Explain each mode\n",
    "of file opening."
   ]
  },
  {
   "cell_type": "markdown",
   "id": "832f8758-8fad-4887-ba14-8363d650a910",
   "metadata": {},
   "source": [
    "Files in Python can be opened with a built-in open() function.\n",
    "syntax-open(\"\", \"\")\n",
    "\n",
    "Let us assume a file with name \"afile.txt\"\n",
    "Different modes are -\n",
    "1.In ‘r’ mode, the file opens in the read mode. By default, if we don’t specify the mode argument, it will be treated as read or ‘r’ mode.\n",
    "syntax open(\"afile.txt\", \"r\")\n",
    "2 In the ‘w’ mode, the file opens in write mode. It removes existing content, if present, in the file. If the specified file doesn’t exist, it creates one with the specified name. \n",
    "syntax- open(\"afile.txt\", \"w\")\n",
    "3 In the ‘a’ mode, the file opens in append mode. It adds content to an existing file (or append at the end of the file). If the specified file doesn’t exist, it creates one with the specified name. It does not remove the existing content from the file.\n",
    "syntax- open(\"afile.txt\", \"a\")\n",
    "4 In the ‘r+’ mode, the file opens in the read & write mode. It does not remove existing content, if present, in the file and does not create a file if not present in the directory. \n",
    "syntax - open(\"afile.txt\", \"r+\")\n",
    "5 In the ‘w+’ mode, open the file in the read & write mode & remove existing content. If the file doesn’t exist, it creates a new one.\n",
    "syntax- open(\"afile.txt\", \"w+\")\n",
    "6 In the ‘a+’ mode, the file opens in the read & append mode. It does not remove existing content & If the file doesn’t exist, it creates a new one.\n",
    "syntax- open(\"afile.txt\", \"a+\")"
   ]
  },
  {
   "cell_type": "markdown",
   "id": "7bfdf7b3-5150-4614-9ed0-6d096f6670f6",
   "metadata": {},
   "source": [
    "Q2. Why close() function is used? Why is it important to close a file?"
   ]
  },
  {
   "cell_type": "markdown",
   "id": "a08bc118-c438-4caf-a774-c0d136eacbcc",
   "metadata": {},
   "source": [
    "The close() method of a file object flushes any unwritten information and closes the file object, after which no more writing can be done.\n",
    "\n",
    "Files are actually a limited resource that are managed not by the language, but the OS itself. Without closing them we may risk reaching the open limit, causing problems with the continued operation of the program. Too many open files will also impact program performance due to increased demand on RAM and other OS resources."
   ]
  },
  {
   "cell_type": "markdown",
   "id": "0fb0a4cb-24f8-4de8-8403-21ba2e14a507",
   "metadata": {},
   "source": [
    "Q3. Write a python program to create a text file. Write ‘I want to become a Data Scientist’ in that file. Then\n",
    "close the file. Open this file and read the content of the file."
   ]
  },
  {
   "cell_type": "code",
   "execution_count": 1,
   "id": "80094bdc-d743-4dbd-bd6c-9456a2506092",
   "metadata": {},
   "outputs": [],
   "source": [
    "a= open(\"te.txt\",'w')"
   ]
  },
  {
   "cell_type": "code",
   "execution_count": 3,
   "id": "1c43c418-369c-4261-be38-aaa706c260ff",
   "metadata": {},
   "outputs": [
    {
     "data": {
      "text/plain": [
       "33"
      ]
     },
     "execution_count": 3,
     "metadata": {},
     "output_type": "execute_result"
    }
   ],
   "source": [
    "a.write(\"I want to become a Data Scientist\")"
   ]
  },
  {
   "cell_type": "code",
   "execution_count": 5,
   "id": "33db5f6d-f3a9-4032-be19-2f5558377e1e",
   "metadata": {},
   "outputs": [],
   "source": [
    "a.close()"
   ]
  },
  {
   "cell_type": "code",
   "execution_count": 7,
   "id": "ffffeb9d-433e-45a2-9dc6-b27a89922b14",
   "metadata": {},
   "outputs": [],
   "source": [
    "a=open(\"te.txt\",'r')"
   ]
  },
  {
   "cell_type": "code",
   "execution_count": 8,
   "id": "05790d9e-8dac-44f3-968f-bd7b88ca221e",
   "metadata": {},
   "outputs": [
    {
     "data": {
      "text/plain": [
       "'I want to become a Data Scientist'"
      ]
     },
     "execution_count": 8,
     "metadata": {},
     "output_type": "execute_result"
    }
   ],
   "source": [
    "a.read()"
   ]
  },
  {
   "cell_type": "code",
   "execution_count": 9,
   "id": "c6d0926a-fd93-4b5b-bc35-cb862c48661e",
   "metadata": {},
   "outputs": [],
   "source": [
    "a.close()"
   ]
  },
  {
   "cell_type": "markdown",
   "id": "734e2288-fd47-4206-8162-8a3b38e6785e",
   "metadata": {},
   "source": [
    "Q4. Explain the following with python code: read(), readline() and readlines()."
   ]
  },
  {
   "cell_type": "markdown",
   "id": "19288322-e4c6-4338-9aba-a6e2c651569d",
   "metadata": {},
   "source": [
    "The read() method returns the specified number of bytes from the file. Default is -1 which means the whole file.\n",
    "\n",
    "code- a= open(\"te.txt\",'w')\n",
    "      a.write(\"I want to become a Data Scientist\")\n",
    "      a.read()\n",
    "      'I want to become a Data Scientist'\n",
    "\n",
    "readline() function reads a line of the file and return it in the form of the string. It takes a parameter n, which specifies the maximum number of bytes that will be read. However, does not reads more than one line, even if n exceeds the length of the line. It will be efficient when reading a large file because instead of fetching all the data in one go, it fetches line by line.\n",
    "\n",
    "code -  \n",
    "\n",
    "        a=[ \"Sudh\\n\",\"Data\\n\",\"Program\\n\"] \n",
    "        file1 = open('myfile.txt', 'w')\n",
    "        file1.writelines((a))\n",
    "        file1.close()\n",
    "        \n",
    "        file1 = open('myfile.txt', 'r')\n",
    "        count = 0\n",
    "        while True:\n",
    "        count += 1\n",
    "        line = file1.readline()\n",
    "        if not line:\n",
    "        break\n",
    "        print(line)\n",
    "    Output Sudh\n",
    "           Data\n",
    "           Program\n",
    "       \n",
    "readlines() is used to read all the lines at a single go and then return them as each line a string element in a list. This function can be used for small files, as it reads the whole file content to the memory, then split it into separate lines.\n",
    "\n",
    "code -    \n",
    "\n",
    "          a=[ \"Sudh\\n\",\"Data\\n\",\"Program\\n\"] \n",
    "          file1 = open('myfile.txt', 'w')\n",
    "          file1.writelines(a)\n",
    "          file1.close()\n",
    "          file1 = open('myfile.txt', 'r')\n",
    "          Lines = file1.readlines()\n",
    "          print(Lines)\n",
    "          output ['Sudh\\n', 'Data\\n', 'Program\\n']"
   ]
  },
  {
   "cell_type": "markdown",
   "id": "5bae33b5-2d36-4ae6-962b-f7a2bbd96877",
   "metadata": {},
   "source": [
    "Q5. Explain why with statement is used with open(). What is the advantage of using with statement and\n",
    "open() together?"
   ]
  },
  {
   "cell_type": "markdown",
   "id": "b3c68a95-15d8-47e3-8c86-bcdf68a35d36",
   "metadata": {},
   "source": [
    "The with statement works with the open() function to open a file.Unlike open() where we have to close the file with the close() method, the with statement closes the file for us without we telling it to.This is because the with statement calls 2 built-in methods behind the scene – __enter()__ and __exit()__.The __exit()__ method closes the file when the operation you specify is done.\n",
    "\n",
    "Advantages-\n",
    "Fewer chances of bug due to coding error - as it closes the file itself \n",
    "Excellent handling in case of exception\n",
    "Open multiple files in a single “with statement”\n",
    "\n"
   ]
  },
  {
   "cell_type": "markdown",
   "id": "d5b0465d-5dc1-4c8b-aef2-70f547bff697",
   "metadata": {},
   "source": [
    "Q6. Explain the write() and writelines() functions. Give a suitable example."
   ]
  },
  {
   "cell_type": "markdown",
   "id": "47f1ab3b-bcd0-4023-96ae-f338023e29c8",
   "metadata": {},
   "source": [
    "write() function- The write() function will write the content in the file without adding any extra characters.\n",
    "syntax-\n",
    "       \n",
    "       file_name.write(content)\n",
    "       file = open(\"Employees.txt\", \"w\")\n",
    "       file.write(\"Name is Sudh\")\n",
    "       file.close()\n",
    "       file=open(\"Employees.txt\", \"r\")\n",
    "       file.read()\n",
    "       Name is Sudh\n",
    "writelines() function\n",
    "This function writes the content of a list to a file. \n",
    "syntax-\n",
    "        \n",
    "        file_name.writelines(list_of_lines)\n",
    "        file1 = open(\"Employees.txt\", \"w\")\n",
    "        lst = [\"1\",\"2\",\"3\"]\n",
    "        file1.writelines(lst)\n",
    "        file1.close()\n",
    "        file1=open(\"Employees.txt\", \"r\")\n",
    "        file1.read()\n",
    "        \n",
    "        output '123'\n",
    "        \n"
   ]
  },
  {
   "cell_type": "code",
   "execution_count": null,
   "id": "763f5c16-40b6-4954-808c-965b55f1b071",
   "metadata": {},
   "outputs": [],
   "source": []
  },
  {
   "cell_type": "code",
   "execution_count": null,
   "id": "3e856c60-2bbc-498d-abc1-ce7292612743",
   "metadata": {},
   "outputs": [],
   "source": []
  },
  {
   "cell_type": "code",
   "execution_count": null,
   "id": "e23d29b1-b568-4f34-a140-6beb91c7abb4",
   "metadata": {},
   "outputs": [],
   "source": []
  }
 ],
 "metadata": {
  "kernelspec": {
   "display_name": "Python 3 (ipykernel)",
   "language": "python",
   "name": "python3"
  },
  "language_info": {
   "codemirror_mode": {
    "name": "ipython",
    "version": 3
   },
   "file_extension": ".py",
   "mimetype": "text/x-python",
   "name": "python",
   "nbconvert_exporter": "python",
   "pygments_lexer": "ipython3",
   "version": "3.10.8"
  }
 },
 "nbformat": 4,
 "nbformat_minor": 5
}
